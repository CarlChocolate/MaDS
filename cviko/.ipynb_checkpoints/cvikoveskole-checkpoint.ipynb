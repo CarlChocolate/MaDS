{
 "cells": [
  {
   "cell_type": "markdown",
   "id": "dd58a616-dfed-4013-b255-397254ac142c",
   "metadata": {},
   "source": [
    "![My Image](fig/cviko.png)"
   ]
  },
  {
   "cell_type": "code",
   "execution_count": null,
   "id": "2be67072-d3f4-44f9-8b61-b66542adbaeb",
   "metadata": {},
   "outputs": [],
   "source": [
    "from ns import ns"
   ]
  },
  {
   "cell_type": "code",
   "execution_count": null,
   "id": "3bd23706-7dfc-4cde-9475-3ee51fad82f1",
   "metadata": {},
   "outputs": [],
   "source": [
    "# creating nodes\n",
    "\n",
    "all_nodes = ns.NodeContainer()\n",
    "all_nodes.Create(7)"
   ]
  },
  {
   "cell_type": "code",
   "execution_count": null,
   "id": "1eb9373d-d74e-457c-8304-761e0f35c7c3",
   "metadata": {},
   "outputs": [],
   "source": [
    "all_nodes.GetN()"
   ]
  },
  {
   "cell_type": "code",
   "execution_count": null,
   "id": "f43539ad-b21a-492f-8931-3f83c8238141",
   "metadata": {},
   "outputs": [],
   "source": [
    "# creating Links / Connections\n",
    "csma = ns.CsmaHelper()"
   ]
  },
  {
   "cell_type": "code",
   "execution_count": null,
   "id": "84180755-1422-4302-81c0-52b3c718ef83",
   "metadata": {},
   "outputs": [],
   "source": [
    "switch1_net_devices = ns.NetDeviceContainer() # vsechny sitovky od Switche 1\n",
    "switch2_net_devices = ns.NetDeviceContainer() # vsechny sitovky od Switche 2\n",
    "net1_net_devices = ns.NetDeviceContainer() # vsechny sitovky ze site 1\n",
    "net3_net_devices = ns.NetDeviceContainer() # vsechny sitovky ze site 3"
   ]
  },
  {
   "cell_type": "code",
   "execution_count": null,
   "id": "9f51d42a-3421-43e0-afdb-bc73be35858c",
   "metadata": {},
   "outputs": [],
   "source": [
    "# Router 1\n",
    "\n",
    "csma_node_pair = ns.NodeContainer()\n",
    "csma_node_pair.Add(all_nodes.Get(3)) # beru Router 1\n",
    "csma_node_pair.Add(all_nodes.Get(2)) # beru Switch 1\n",
    "devices = csma.Install(csma_node_pair) # spojim je kabelem\n",
    "\n",
    "\n",
    "net1_net_devices.Add(devices.Get(0)) # Pridam sitovku do site 1\n",
    "switch1_net_devices.Add(devices.Get(1)) # Pridam sitovku do switche 1\n",
    "\n",
    "\n",
    "# PC1 \n",
    "csma_node_pair = ns.NodeContainer()\n",
    "csma_node_pair.Add(all_nodes.Get(0)) # beru PC1\n",
    "csma_node_pair.Add(all_nodes.Get(2)) # beru Switch 1\n",
    "devices = csma.Install(csma_node_pair) # spojim je kabelem\n",
    "\n",
    "\n",
    "net1_net_devices.Add(devices.Get(0)) # Pridam sitovku do site 1\n",
    "switch1_net_devices.Add(devices.Get(1)) # Pridam sitovku do switche 1\n",
    "\n",
    "# PC2 \n",
    "csma_node_pair = ns.NodeContainer()\n",
    "csma_node_pair.Add(all_nodes.Get(1)) # beru PC2\n",
    "csma_node_pair.Add(all_nodes.Get(2)) # beru Switch 1\n",
    "devices = csma.Install(csma_node_pair) # spojim je kabelem\n",
    "\n",
    "net1_net_devices.Add(devices.Get(0)) # Pridam sitovku do site 1\n",
    "switch1_net_devices.Add(devices.Get(1)) # Pridam sitovku do switche 1\n",
    "\n",
    "# router 2\n",
    "csma_node_pair = ns.NodeContainer()\n",
    "csma_node_pair.Add(all_nodes.Get(4)) # beru Router 2\n",
    "csma_node_pair.Add(all_nodes.Get(5)) # beru Switch 2\n",
    "devices = csma.Install(csma_node_pair) # spojim je kabelem\n",
    "\n",
    "\n",
    "net3_net_devices.Add(devices.Get(0)) # Pridam sitovku do site 3\n",
    "switch2_net_devices.Add(devices.Get(1)) # Pridam sitovku do switche 1\n",
    "\n",
    "\n",
    "# PC3\n",
    "csma_node_pair = ns.NodeContainer()\n",
    "csma_node_pair.Add(all_nodes.Get(6)) # beru PC3\n",
    "csma_node_pair.Add(all_nodes.Get(5)) # beru Switch 2\n",
    "devices = csma.Install(csma_node_pair) # spojim je kabelem\n",
    "\n",
    "\n",
    "net3_net_devices.Add(devices.Get(0)) # Pridam sitovku do site 3\n",
    "switch2_net_devices.Add(devices.Get(1)) # Pridam sitovku do switche 2"
   ]
  },
  {
   "cell_type": "code",
   "execution_count": null,
   "id": "ccc3c597-2a74-4b0a-b4f7-cfc9fbda9195",
   "metadata": {},
   "outputs": [],
   "source": [
    "# P2P spoj mezi Routery\n",
    "\n",
    "router_node_container = ns.NodeContainer()\n",
    "router_node_container.Add(all_nodes.Get(3)) # Pridam Router 1\n",
    "router_node_container.Add(all_nodes.Get(4)) # Pridam Router 2\n",
    "p2p = ns.PointToPointHelper() # Vytvorim genericky P2P spoj\n",
    "p2p_devices = p2p.Install(router_node_container) # Priradim ho mym dvema routerum"
   ]
  },
  {
   "cell_type": "code",
   "execution_count": null,
   "id": "434afe36-1a79-464a-950a-f08098f34903",
   "metadata": {},
   "outputs": [],
   "source": [
    "# creating switches\n",
    "bridge_helper = ns.BridgeHelper()\n",
    "bridge_helper.Install(all_nodes.Get(2), switch1_net_devices) # vsechny sitovky Switche 1 dam dokupy a vytvorim switch\n",
    "bridge_helper.Install(all_nodes.Get(5), switch2_net_devices) # vsechny sitovky Switche 2 dam dokupy a vytvorim switch"
   ]
  },
  {
   "cell_type": "code",
   "execution_count": null,
   "id": "50f73c8d-ef7e-48d0-8385-57c6eeb86241",
   "metadata": {},
   "outputs": [],
   "source": [
    "# IP Stack - instalace IP protokolu na vsechny zarizeni\n",
    "\n",
    "internet = ns.InternetStackHelper()\n",
    "internet.Install(all_nodes.Get(0))\n",
    "internet.Install(all_nodes.Get(1))\n",
    "internet.Install(all_nodes.Get(3))\n",
    "internet.Install(all_nodes.Get(4))\n",
    "internet.Install(all_nodes.Get(6))"
   ]
  },
  {
   "cell_type": "code",
   "execution_count": null,
   "id": "b1306af7-b986-469c-be5b-4f1058770e1d",
   "metadata": {},
   "outputs": [],
   "source": [
    "# IP addresace\n",
    "addr = ns.Ipv4AddressHelper()\n",
    "addr.SetBase(ns.Ipv4Address(f\"10.0.1.0\"), ns.Ipv4Mask(\"255.255.255.0\"))\n",
    "device_ifaces = addr.Assign(net1_net_devices) # Priradi IP addresy pro vsechny interfacy pro Sit1\n",
    "\n",
    "addr.NewNetwork() # Vytvori novou sit, na zaklade te predchozi (pouzije stejnou masku)\n",
    "device_ifaces = addr.Assign(p2p_devices) # Priradi IP addresy pro vsechny interfacy pro P2P spoj\n",
    "\n",
    "addr.NewNetwork() # Vytvori novou sit, na zaklade te predchozi (pouzije stejnou masku)\n",
    "device_ifaces = addr.Assign(net3_net_devices) # Priradi IP addresy pro vsechny interfacy pro Sit 3"
   ]
  },
  {
   "cell_type": "code",
   "execution_count": null,
   "id": "1930745d-0af2-48eb-bede-f93ec2f18715",
   "metadata": {},
   "outputs": [],
   "source": [
    "# Vytvori routovaci tabulku na vsech L3 zarizenich\n",
    "ns.Ipv4GlobalRoutingHelper.PopulateRoutingTables() "
   ]
  },
  {
   "cell_type": "code",
   "execution_count": null,
   "id": "f19e405d-ec46-4373-8ff2-c4381f550586",
   "metadata": {},
   "outputs": [],
   "source": [
    "# Vytvareni serveru (ktery bude naslouchat a odpovidat)\n",
    "\n",
    "echo_srv_helper = ns.UdpEchoServerHelper(9) #vytvorim si helper, neboli genericky server\n",
    "srv_apps = echo_srv_helper.Install(all_nodes.Get(1)) # Nainstaluju ho na PC2\n",
    "print(f\"Servers: {srv_apps.GetN()}\")"
   ]
  },
  {
   "cell_type": "code",
   "execution_count": null,
   "id": "b404c62f-a0c8-46ea-b77a-c646ef4bfedd",
   "metadata": {},
   "outputs": [],
   "source": [
    "# Vytvareni clientu\n",
    "from lib.utils import create_echo_client_helper\n",
    "\n",
    "echo_client_helper = create_echo_client_helper(\"10.0.1.3\", 9) # Vytvoreni generickeho helperu pro clienta, s IP adresou a portem Serveru\n",
    "client_node_container = ns.NodeContainer() # vytvoreni kontejneru pro vsechny clienty\n",
    "client_node_container.Add(all_nodes.Get(0)) # pridani PC1 do kontejneru\n",
    "client_node_container.Add(all_nodes.Get(6)) # pridani PC3 do kontejneru\n",
    "\n",
    "client_apps = echo_client_helper.Install(client_node_container) # pridani helperu do vsech zarizeni v kontejneru"
   ]
  },
  {
   "cell_type": "code",
   "execution_count": null,
   "id": "f7527421-66f7-49e5-86dc-beae12d6ab96",
   "metadata": {},
   "outputs": [],
   "source": [
    "# Logging\n",
    "\n",
    "ns.LogComponentEnable(\"UdpEchoClientApplication\", ns.LOG_LEVEL_INFO)\n",
    "ns.LogComponentEnable(\"UdpEchoServerApplication\", ns.LOG_LEVEL_INFO)"
   ]
  },
  {
   "cell_type": "code",
   "execution_count": null,
   "id": "0309442d-d2a0-444e-8c02-873cdd777ba3",
   "metadata": {},
   "outputs": [],
   "source": [
    "# Timing\n",
    "\n",
    "srv_apps.Start(ns.Seconds(1.0))\n",
    "srv_apps.Stop(ns.Seconds(30.0))\n",
    "client_apps.Start(ns.Seconds(2.0)) # has to be later than server\n",
    "client_apps.Stop(ns.Seconds(30.0))"
   ]
  },
  {
   "cell_type": "code",
   "execution_count": null,
   "id": "86b1bdd6-24ee-4d46-80ee-cf2942d77db8",
   "metadata": {},
   "outputs": [],
   "source": [
    "# Run\n",
    "\n",
    "ns.Simulator.Stop(ns.Seconds(35))\n",
    "ns.Simulator.Run()\n",
    "\n",
    "# print routing table & IP addresses of Device 3\n",
    "from lib.utils import get_routing_table_str, get_node_ips\n",
    "print(get_routing_table_str(all_nodes.Get(0)))\n",
    "print(get_node_ips(all_nodes.Get(3))[2][0])\n",
    "\n",
    "\n",
    "ns.Simulator.Destroy()\n"
   ]
  }
 ],
 "metadata": {
  "kernelspec": {
   "display_name": "Python 3 (ipykernel)",
   "language": "python",
   "name": "python3"
  },
  "language_info": {
   "codemirror_mode": {
    "name": "ipython",
    "version": 3
   },
   "file_extension": ".py",
   "mimetype": "text/x-python",
   "name": "python",
   "nbconvert_exporter": "python",
   "pygments_lexer": "ipython3",
   "version": "3.11.2"
  }
 },
 "nbformat": 4,
 "nbformat_minor": 5
}
