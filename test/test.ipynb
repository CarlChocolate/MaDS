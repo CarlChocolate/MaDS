{
 "cells": [
  {
   "cell_type": "code",
   "execution_count": 1,
   "id": "2be67072-d3f4-44f9-8b61-b66542adbaeb",
   "metadata": {},
   "outputs": [
    {
     "name": "stderr",
     "output_type": "stream",
     "text": [
      "[runStaticInitializersOnce]: Failed to materialize symbols: { (main, { _ZN3ns3L16g_timeInitHelperE, _GLOBAL__sub_I_cling_module_143, __orc_init_func.cling-module-143, __cxx_global_var_initcling_module_143_, $.cling-module-143.__inits.0 }) }\n",
      "[runStaticInitializersOnce]: Failed to materialize symbols: { (main, { __orc_init_func.cling-module-143 }) }\n"
     ]
    }
   ],
   "source": [
    "from ns import ns"
   ]
  },
  {
   "cell_type": "code",
   "execution_count": 2,
   "id": "3bd23706-7dfc-4cde-9475-3ee51fad82f1",
   "metadata": {},
   "outputs": [],
   "source": [
    "# creating nodes\n",
    "\n",
    "all_nodes = ns.NodeContainer()\n",
    "all_nodes.Create(7)"
   ]
  },
  {
   "cell_type": "code",
   "execution_count": 3,
   "id": "1eb9373d-d74e-457c-8304-761e0f35c7c3",
   "metadata": {},
   "outputs": [
    {
     "data": {
      "text/plain": [
       "7"
      ]
     },
     "execution_count": 3,
     "metadata": {},
     "output_type": "execute_result"
    }
   ],
   "source": [
    "all_nodes.GetN()"
   ]
  },
  {
   "cell_type": "code",
   "execution_count": 4,
   "id": "f43539ad-b21a-492f-8931-3f83c8238141",
   "metadata": {},
   "outputs": [],
   "source": [
    "# creating Links / Connections\n",
    "\n",
    "csma = ns.CsmaHelper()\n",
    "switch_net_devices = ns.NetDeviceContainer() # vsechny sitovky od Switche\n",
    "net_net_devices = ns.NetDeviceContainer() # vsechny sitovky z prostredni site "
   ]
  },
  {
   "cell_type": "code",
   "execution_count": 5,
   "id": "9f51d42a-3421-43e0-afdb-bc73be35858c",
   "metadata": {},
   "outputs": [],
   "source": [
    "# Router 1 (left)\n",
    "\n",
    "csma_node_pair = ns.NodeContainer()\n",
    "csma_node_pair.Add(all_nodes.Get(1)) # beru Router 1\n",
    "csma_node_pair.Add(all_nodes.Get(2)) # beru Switch\n",
    "devices = csma.Install(csma_node_pair) # spojim je kabelem\n",
    "\n",
    "\n",
    "net_net_devices.Add(devices.Get(0)) # Pridam sitovku do prostredni site\n",
    "switch_net_devices.Add(devices.Get(1)) # Pridam sitovku do switche\n",
    "\n",
    "\n",
    "# Router 2 (right)\n",
    "\n",
    "csma_node_pair = ns.NodeContainer()\n",
    "csma_node_pair.Add(all_nodes.Get(3)) # beru Router 2\n",
    "csma_node_pair.Add(all_nodes.Get(2)) # beru Switch\n",
    "devices = csma.Install(csma_node_pair) # spojim je kabelem\n",
    "\n",
    "\n",
    "net_net_devices.Add(devices.Get(0)) # Pridam sitovku do prostredni site\n",
    "switch_net_devices.Add(devices.Get(1)) # Pridam sitovku do switche\n",
    "\n",
    "\n",
    "# PC3\n",
    "csma_node_pair = ns.NodeContainer()\n",
    "csma_node_pair.Add(all_nodes.Get(5)) # beru PC3\n",
    "csma_node_pair.Add(all_nodes.Get(2)) # beru Switch\n",
    "devices = csma.Install(csma_node_pair) # spojim je kabelem\n",
    "\n",
    "\n",
    "net_net_devices.Add(devices.Get(0)) # Pridam sitovku do prostredni site\n",
    "switch_net_devices.Add(devices.Get(1)) # Pridam sitovku do switche\n",
    "\n",
    "# PC4\n",
    "csma_node_pair = ns.NodeContainer()\n",
    "csma_node_pair.Add(all_nodes.Get(6)) # beru PC4\n",
    "csma_node_pair.Add(all_nodes.Get(2)) # beru Switch\n",
    "devices = csma.Install(csma_node_pair) # spojim je kabelem\n",
    "\n",
    "net_net_devices.Add(devices.Get(0)) # Pridam sitovku do prostredni site\n",
    "switch_net_devices.Add(devices.Get(1)) # Pridam sitovku do switche"
   ]
  },
  {
   "cell_type": "code",
   "execution_count": 6,
   "id": "ccc3c597-2a74-4b0a-b4f7-cfc9fbda9195",
   "metadata": {},
   "outputs": [],
   "source": [
    "# P2P spoj mezi PC1 a Router 1\n",
    "\n",
    "router_node_container = ns.NodeContainer()\n",
    "router_node_container.Add(all_nodes.Get(1)) # Pridam Router 1\n",
    "router_node_container.Add(all_nodes.Get(0)) # Pridam PC1\n",
    "p2p = ns.PointToPointHelper() # Vytvorim genericky P2P spoj\n",
    "p2p_left = p2p.Install(router_node_container) # Priradim ho P2P spoji vlevo\n",
    "\n",
    "\n",
    "# P2P spoj mezi PC1 a Router 1\n",
    "router_node_container = ns.NodeContainer()\n",
    "router_node_container.Add(all_nodes.Get(3)) # Pridam Router 2\n",
    "router_node_container.Add(all_nodes.Get(4)) # Pridam PC2\n",
    "p2p = ns.PointToPointHelper() # Vytvorim genericky P2P spoj\n",
    "p2p_right = p2p.Install(router_node_container) # Priradim ho P2P spoji vpravo"
   ]
  },
  {
   "cell_type": "code",
   "execution_count": 7,
   "id": "434afe36-1a79-464a-950a-f08098f34903",
   "metadata": {},
   "outputs": [
    {
     "data": {
      "text/plain": [
       "<cppyy.gbl.ns3.NetDeviceContainer object at 0x436cade0>"
      ]
     },
     "execution_count": 7,
     "metadata": {},
     "output_type": "execute_result"
    }
   ],
   "source": [
    "# creating switch\n",
    "bridge_helper = ns.BridgeHelper()\n",
    "bridge_helper.Install(all_nodes.Get(2), switch_net_devices) # vsechny sitovky Switche dam dokupy a vytvorim switch"
   ]
  },
  {
   "cell_type": "code",
   "execution_count": 8,
   "id": "50f73c8d-ef7e-48d0-8385-57c6eeb86241",
   "metadata": {},
   "outputs": [],
   "source": [
    "# IP Stack - instalace IP protokolu na vsechny zarizeni\n",
    "\n",
    "internet = ns.InternetStackHelper()\n",
    "internet.Install(all_nodes.Get(0))\n",
    "internet.Install(all_nodes.Get(1))\n",
    "internet.Install(all_nodes.Get(3))\n",
    "internet.Install(all_nodes.Get(4))\n",
    "internet.Install(all_nodes.Get(5))\n",
    "internet.Install(all_nodes.Get(6))"
   ]
  },
  {
   "cell_type": "code",
   "execution_count": 9,
   "id": "b1306af7-b986-469c-be5b-4f1058770e1d",
   "metadata": {},
   "outputs": [],
   "source": [
    "# IP addresace\n",
    "addr = ns.Ipv4AddressHelper()\n",
    "addr.SetBase(ns.Ipv4Address(f\"10.0.1.0\"), ns.Ipv4Mask(\"255.255.255.0\"))\n",
    "device_ifaces = addr.Assign(net_net_devices) # Priradi IP addresy pro vsechny interfacy pro Sit1\n",
    "\n",
    "addr.NewNetwork() # Vytvori novou sit, na zaklade te predchozi (pouzije stejnou masku)\n",
    "device_ifaces = addr.Assign(p2p_left) # Priradi IP addresy pro vsechny interfacy pro P2P spoj\n",
    "\n",
    "addr.NewNetwork() # Vytvori novou sit, na zaklade te predchozi (pouzije stejnou masku)\n",
    "device_ifaces = addr.Assign(p2p_right) # Priradi IP addresy pro vsechny interfacy pro P2P spoj"
   ]
  },
  {
   "cell_type": "code",
   "execution_count": 10,
   "id": "1930745d-0af2-48eb-bede-f93ec2f18715",
   "metadata": {},
   "outputs": [],
   "source": [
    "# Vytvori routovaci tabulku na vsech L3 zarizenich\n",
    "ns.Ipv4GlobalRoutingHelper.PopulateRoutingTables() "
   ]
  },
  {
   "cell_type": "code",
   "execution_count": 11,
   "id": "f19e405d-ec46-4373-8ff2-c4381f550586",
   "metadata": {},
   "outputs": [
    {
     "name": "stdout",
     "output_type": "stream",
     "text": [
      "Servers: 1\n",
      "Servers: 1\n"
     ]
    }
   ],
   "source": [
    "# Vytvareni serveru RED (ktery bude naslouchat na portu 11 a odpovidat)\n",
    "\n",
    "echo_srv_helper = ns.UdpEchoServerHelper(11) #vytvorim si helper, neboli genericky server\n",
    "srv_apps_red = echo_srv_helper.Install(all_nodes.Get(5)) # Nainstaluju ho na PC2\n",
    "print(f\"Servers: {srv_apps_red.GetN()}\")\n",
    "\n",
    "# Vytvareni serveru GREEN (ktery bude naslouchat na portu 22 a odpovidat)\n",
    "\n",
    "echo_srv_helper = ns.UdpEchoServerHelper(22) #vytvorim si helper, neboli genericky server\n",
    "srv_apps_green = echo_srv_helper.Install(all_nodes.Get(6)) # Nainstaluju ho na PC2\n",
    "print(f\"Servers: {srv_apps_green.GetN()}\")"
   ]
  },
  {
   "cell_type": "code",
   "execution_count": 12,
   "id": "b404c62f-a0c8-46ea-b77a-c646ef4bfedd",
   "metadata": {},
   "outputs": [],
   "source": [
    "# Vytvareni clientu RED\n",
    "\n",
    "# Na dalsich radcich se vytvori genericky client\n",
    "# Prvni radek vytvori generickeho klienta, ktery bude \"pingovat\" server 10.0.1.3 na portu 11\n",
    "echo_client_helper = ns.UdpEchoClientHelper(ns.Address(ns.InetSocketAddress(ns.Ipv4Address(\"10.0.1.3\"),11).ConvertTo()))\n",
    "# Na dalsich radcich vytvarime atributy pro klienty, kolik packetu, jak casto, jak velke\n",
    "echo_client_helper.SetAttribute(\"MaxPackets\", ns.UintegerValue(50))\n",
    "echo_client_helper.SetAttribute(\"Interval\", ns.TimeValue(ns.Seconds(1)))\n",
    "echo_client_helper.SetAttribute(\"PacketSize\", ns.UintegerValue(1500))\n",
    "\n",
    "client_node_container = ns.NodeContainer() # vytvoreni kontejneru pro vsechny clienty\n",
    "client_node_container.Add(all_nodes.Get(0)) # pridani PC1 do kontejneru\n",
    "\n",
    "client_apps_red = echo_client_helper.Install(client_node_container) # pridani generickeho klienta do vsech zarizeni v kontejneru\n",
    "\n",
    "\n",
    "# Vytvareni clientu GREEN\n",
    "\n",
    "# Na dalsich radcich se vytvori genericky client\n",
    "# Prvni radek vytvori generickeho klienta, ktery bude \"pingovat\" server 10.0.1.4 na portu 22\n",
    "echo_client_helper = ns.UdpEchoClientHelper(ns.Address(ns.InetSocketAddress(ns.Ipv4Address(\"10.0.1.4\"),22).ConvertTo()))\n",
    "# Na dalsich radcich vytvarime atributy pro klienty, kolik packetu, jak casto, jak velke\n",
    "echo_client_helper.SetAttribute(\"MaxPackets\", ns.UintegerValue(50))\n",
    "echo_client_helper.SetAttribute(\"Interval\", ns.TimeValue(ns.Seconds(1)))\n",
    "echo_client_helper.SetAttribute(\"PacketSize\", ns.UintegerValue(1500))\n",
    "\n",
    "client_node_container = ns.NodeContainer() # vytvoreni kontejneru pro vsechny clienty\n",
    "client_node_container.Add(all_nodes.Get(4)) # pridani PC2 do kontejneru\n",
    "\n",
    "client_apps_green = echo_client_helper.Install(client_node_container) # pridani generickeho klienta do vsech zarizeni v kontejneru"
   ]
  },
  {
   "cell_type": "code",
   "execution_count": 13,
   "id": "f7527421-66f7-49e5-86dc-beae12d6ab96",
   "metadata": {},
   "outputs": [],
   "source": [
    "# Logging\n",
    "\n",
    "ns.LogComponentEnable(\"UdpEchoClientApplication\", ns.LOG_LEVEL_INFO)\n",
    "ns.LogComponentEnable(\"UdpEchoServerApplication\", ns.LOG_LEVEL_INFO)"
   ]
  },
  {
   "cell_type": "code",
   "execution_count": 14,
   "id": "0309442d-d2a0-444e-8c02-873cdd777ba3",
   "metadata": {},
   "outputs": [],
   "source": [
    "# Timing\n",
    "\n",
    "srv_apps_red.Start(ns.Seconds(1.0))\n",
    "srv_apps_red.Stop(ns.Seconds(10.0))\n",
    "client_apps_red.Start(ns.Seconds(2.0)) # has to be later than server\n",
    "client_apps_red.Stop(ns.Seconds(10.0))\n",
    "\n",
    "\n",
    "srv_apps_green.Start(ns.Seconds(11.0))\n",
    "srv_apps_green.Stop(ns.Seconds(20.0))\n",
    "client_apps_green.Start(ns.Seconds(12.0)) # has to be later than server\n",
    "client_apps_green.Stop(ns.Seconds(20.0))"
   ]
  },
  {
   "cell_type": "code",
   "execution_count": 15,
   "id": "86b1bdd6-24ee-4d46-80ee-cf2942d77db8",
   "metadata": {},
   "outputs": [
    {
     "name": "stderr",
     "output_type": "stream",
     "text": [
      "At time +2s client sent 1500 bytes to 10.0.1.3 port 11\n",
      "At time +2.37891s server received 1500 bytes from 10.0.2.2 port 49153\n",
      "At time +2.37891s server sent 1500 bytes to 10.0.2.2 port 49153\n",
      "At time +2.75982s client received 1500 bytes from 10.0.1.3 port 11\n",
      "At time +3s client sent 1500 bytes to 10.0.1.3 port 11\n",
      "At time +3.37891s server received 1500 bytes from 10.0.2.2 port 49153\n",
      "At time +3.37891s server sent 1500 bytes to 10.0.2.2 port 49153\n",
      "At time +3.75782s client received 1500 bytes from 10.0.1.3 port 11\n",
      "At time +4s client sent 1500 bytes to 10.0.1.3 port 11\n",
      "At time +4.37891s server received 1500 bytes from 10.0.2.2 port 49153\n",
      "At time +4.37891s server sent 1500 bytes to 10.0.2.2 port 49153\n",
      "At time +4.75782s client received 1500 bytes from 10.0.1.3 port 11\n",
      "At time +5s client sent 1500 bytes to 10.0.1.3 port 11\n",
      "At time +5.37891s server received 1500 bytes from 10.0.2.2 port 49153\n",
      "At time +5.37891s server sent 1500 bytes to 10.0.2.2 port 49153\n",
      "At time +5.75782s client received 1500 bytes from 10.0.1.3 port 11\n",
      "At time +6s client sent 1500 bytes to 10.0.1.3 port 11\n",
      "At time +6.37891s server received 1500 bytes from 10.0.2.2 port 49153\n",
      "At time +6.37891s server sent 1500 bytes to 10.0.2.2 port 49153\n",
      "At time +6.75782s client received 1500 bytes from 10.0.1.3 port 11\n",
      "At time +7s client sent 1500 bytes to 10.0.1.3 port 11\n",
      "At time +7.37891s server received 1500 bytes from 10.0.2.2 port 49153\n",
      "At time +7.37891s server sent 1500 bytes to 10.0.2.2 port 49153\n",
      "At time +7.75782s client received 1500 bytes from 10.0.1.3 port 11\n",
      "At time +8s client sent 1500 bytes to 10.0.1.3 port 11\n",
      "At time +8.37891s server received 1500 bytes from 10.0.2.2 port 49153\n",
      "At time +8.37891s server sent 1500 bytes to 10.0.2.2 port 49153\n",
      "At time +8.75782s client received 1500 bytes from 10.0.1.3 port 11\n",
      "At time +9s client sent 1500 bytes to 10.0.1.3 port 11\n",
      "At time +9.37891s server received 1500 bytes from 10.0.2.2 port 49153\n",
      "At time +9.37891s server sent 1500 bytes to 10.0.2.2 port 49153\n",
      "At time +9.75782s client received 1500 bytes from 10.0.1.3 port 11\n",
      "At time +12s client sent 1500 bytes to 10.0.1.4 port 22\n",
      "At time +12.3789s server received 1500 bytes from 10.0.3.2 port 49153\n",
      "At time +12.3789s server sent 1500 bytes to 10.0.3.2 port 49153\n",
      "At time +12.7578s client received 1500 bytes from 10.0.1.4 port 22\n",
      "At time +13s client sent 1500 bytes to 10.0.1.4 port 22\n",
      "At time +13.3789s server received 1500 bytes from 10.0.3.2 port 49153\n",
      "At time +13.3789s server sent 1500 bytes to 10.0.3.2 port 49153\n",
      "At time +13.7578s client received 1500 bytes from 10.0.1.4 port 22\n",
      "At time +14s client sent 1500 bytes to 10.0.1.4 port 22\n",
      "At time +14.3789s server received 1500 bytes from 10.0.3.2 port 49153\n",
      "At time +14.3789s server sent 1500 bytes to 10.0.3.2 port 49153\n",
      "At time +14.7578s client received 1500 bytes from 10.0.1.4 port 22\n",
      "At time +15s client sent 1500 bytes to 10.0.1.4 port 22\n",
      "At time +15.3789s server received 1500 bytes from 10.0.3.2 port 49153\n",
      "At time +15.3789s server sent 1500 bytes to 10.0.3.2 port 49153\n",
      "At time +15.7578s client received 1500 bytes from 10.0.1.4 port 22\n",
      "At time +16s client sent 1500 bytes to 10.0.1.4 port 22\n",
      "At time +16.3789s server received 1500 bytes from 10.0.3.2 port 49153\n",
      "At time +16.3789s server sent 1500 bytes to 10.0.3.2 port 49153\n",
      "At time +16.7578s client received 1500 bytes from 10.0.1.4 port 22\n",
      "At time +17s client sent 1500 bytes to 10.0.1.4 port 22\n",
      "At time +17.3789s server received 1500 bytes from 10.0.3.2 port 49153\n",
      "At time +17.3789s server sent 1500 bytes to 10.0.3.2 port 49153\n",
      "At time +17.7578s client received 1500 bytes from 10.0.1.4 port 22\n",
      "At time +18s client sent 1500 bytes to 10.0.1.4 port 22\n",
      "At time +18.3789s server received 1500 bytes from 10.0.3.2 port 49153\n",
      "At time +18.3789s server sent 1500 bytes to 10.0.3.2 port 49153\n",
      "At time +18.7578s client received 1500 bytes from 10.0.1.4 port 22\n",
      "At time +19s client sent 1500 bytes to 10.0.1.4 port 22\n",
      "At time +19.3789s server received 1500 bytes from 10.0.3.2 port 49153\n",
      "At time +19.3789s server sent 1500 bytes to 10.0.3.2 port 49153\n",
      "At time +19.7578s client received 1500 bytes from 10.0.1.4 port 22\n"
     ]
    }
   ],
   "source": [
    "# Run\n",
    "\n",
    "ns.Simulator.Stop(ns.Seconds(35))\n",
    "ns.Simulator.Run()\n",
    "ns.Simulator.Destroy()\n"
   ]
  },
  {
   "cell_type": "code",
   "execution_count": null,
   "id": "d4a74722-e5a0-45ae-a029-6429535f5c2d",
   "metadata": {},
   "outputs": [],
   "source": []
  }
 ],
 "metadata": {
  "kernelspec": {
   "display_name": "Python 3 (ipykernel)",
   "language": "python",
   "name": "python3"
  },
  "language_info": {
   "codemirror_mode": {
    "name": "ipython",
    "version": 3
   },
   "file_extension": ".py",
   "mimetype": "text/x-python",
   "name": "python",
   "nbconvert_exporter": "python",
   "pygments_lexer": "ipython3",
   "version": "3.11.2"
  }
 },
 "nbformat": 4,
 "nbformat_minor": 5
}
