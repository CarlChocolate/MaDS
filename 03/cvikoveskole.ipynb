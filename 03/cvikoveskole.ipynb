{
 "cells": [
  {
   "cell_type": "markdown",
   "id": "4836aa9b-a9bf-4243-9d3e-5a8682db79d7",
   "metadata": {},
   "source": [
    "from ns import ns"
   ]
  },
  {
   "cell_type": "code",
   "execution_count": 1,
   "id": "2be67072-d3f4-44f9-8b61-b66542adbaeb",
   "metadata": {},
   "outputs": [
    {
     "name": "stderr",
     "output_type": "stream",
     "text": [
      "[runStaticInitializersOnce]: Failed to materialize symbols: { (main, { $.cling-module-143.__inits.0, _ZN3ns3L16g_timeInitHelperE, _GLOBAL__sub_I_cling_module_143, __cxx_global_var_initcling_module_143_, __orc_init_func.cling-module-143 }) }\n",
      "[runStaticInitializersOnce]: Failed to materialize symbols: { (main, { __orc_init_func.cling-module-143 }) }\n"
     ]
    }
   ],
   "source": [
    "from ns import ns"
   ]
  },
  {
   "cell_type": "code",
   "execution_count": 4,
   "id": "3bd23706-7dfc-4cde-9475-3ee51fad82f1",
   "metadata": {},
   "outputs": [],
   "source": [
    "# creating nodes\n",
    "all_nodes = ns.NodeContainer()\n",
    "all_nodes.Create(7)"
   ]
  },
  {
   "cell_type": "code",
   "execution_count": 5,
   "id": "1eb9373d-d74e-457c-8304-761e0f35c7c3",
   "metadata": {},
   "outputs": [
    {
     "data": {
      "text/plain": [
       "7"
      ]
     },
     "execution_count": 5,
     "metadata": {},
     "output_type": "execute_result"
    }
   ],
   "source": [
    "all_nodes.GetN()"
   ]
  },
  {
   "cell_type": "code",
   "execution_count": 7,
   "id": "f43539ad-b21a-492f-8931-3f83c8238141",
   "metadata": {},
   "outputs": [],
   "source": [
    "# creating Links / Connections\n",
    "csma = ns.CsmaHelper()"
   ]
  },
  {
   "cell_type": "code",
   "execution_count": 9,
   "id": "84180755-1422-4302-81c0-52b3c718ef83",
   "metadata": {},
   "outputs": [],
   "source": [
    "switch1_net_devices = ns.NetDeviceContainer() # vsechny sitovky od Switche 1\n",
    "switch2_net_devices = ns.NetDeviceContainer() # vsechny sitovky od Switche 2\n",
    "net1_net_devices = ns.NetDeviceContainer() # vsechny sitovky ze site 1\n",
    "net3_net_devices = ns.NetDeviceContainer() # vsechny sitovky ze site 3"
   ]
  },
  {
   "cell_type": "code",
   "execution_count": 12,
   "id": "9f51d42a-3421-43e0-afdb-bc73be35858c",
   "metadata": {},
   "outputs": [],
   "source": [
    "# Router 1\n",
    "\n",
    "csma_node_pair = ns.NodeContainer()\n",
    "csma_node_pair.Add(all_nodes.Get(3)) # beru Router vlevo\n",
    "csma_node_pair.Add(all_nodes.Get(2)) # beru Switch vlevo\n",
    "devices = csma.Install(csma_node_pair) # spojim je kabelem\n",
    "\n",
    "\n",
    "net1_net_devices.Add(devices.Get(0)) # Pridam sitovku do site 1\n",
    "switch1_net_devices.Add(devices.Get(1)) # Pridam sitovku do switche vlevo\n",
    "\n",
    "\n",
    "# PC1 \n",
    "csma_node_pair = ns.NodeContainer()\n",
    "csma_node_pair.Add(all_nodes.Get(0)) # beru PC1\n",
    "csma_node_pair.Add(all_nodes.Get(2)) # beru Switch vlevo\n",
    "devices = csma.Install(csma_node_pair) # spojim je kabelem\n",
    "\n",
    "\n",
    "net1_net_devices.Add(devices.Get(0))\n",
    "switch1_net_devices.Add(devices.Get(1))\n",
    "\n",
    "# PC2 \n",
    "csma_node_pair = ns.NodeContainer()\n",
    "csma_node_pair.Add(all_nodes.Get(1)) # beru PC2\n",
    "csma_node_pair.Add(all_nodes.Get(2)) # beru Switch vlevo\n",
    "devices = csma.Install(csma_node_pair) # spojim je kabelem\n",
    "\n",
    "net1_net_devices.Add(devices.Get(0))\n",
    "switch1_net_devices.Add(devices.Get(1))\n",
    "\n",
    "# router 2\n",
    "csma_node_pair = ns.NodeContainer()\n",
    "csma_node_pair.Add(all_nodes.Get(4)) # beru Router vpravo\n",
    "csma_node_pair.Add(all_nodes.Get(5)) # beru Switch vpravo\n",
    "devices = csma.Install(csma_node_pair) # spojim je kabelem\n",
    "\n",
    "\n",
    "net3_net_devices.Add(devices.Get(0))\n",
    "switch2_net_devices.Add(devices.Get(1))\n",
    "\n",
    "\n",
    "# PC3\n",
    "csma_node_pair = ns.NodeContainer()\n",
    "csma_node_pair.Add(all_nodes.Get(6)) # beru PC3\n",
    "csma_node_pair.Add(all_nodes.Get(5)) # beru Switch vpravo\n",
    "devices = csma.Install(csma_node_pair) # spojim je kabelem\n",
    "\n",
    "\n",
    "net3_net_devices.Add(devices.Get(0))\n",
    "switch2_net_devices.Add(devices.Get(1))"
   ]
  },
  {
   "cell_type": "code",
   "execution_count": 13,
   "id": "ccc3c597-2a74-4b0a-b4f7-cfc9fbda9195",
   "metadata": {},
   "outputs": [],
   "source": [
    "router_node_container = ns.NodeContainer()\n",
    "router_node_container.Add(all_nodes.Get(3))\n",
    "router_node_container.Add(all_nodes.Get(4))\n",
    "p2p = ns.PointToPointHelper()\n",
    "p2p_devices = p2p.Install(router_node_container)"
   ]
  },
  {
   "cell_type": "code",
   "execution_count": 14,
   "id": "434afe36-1a79-464a-950a-f08098f34903",
   "metadata": {},
   "outputs": [
    {
     "data": {
      "text/plain": [
       "<cppyy.gbl.ns3.NetDeviceContainer object at 0x4d038740>"
      ]
     },
     "execution_count": 14,
     "metadata": {},
     "output_type": "execute_result"
    }
   ],
   "source": [
    "# creating switches\n",
    "bridge_helper = ns.BridgeHelper()\n",
    "bridge_helper.Install(all_nodes.Get(2), switch1_net_devices) # vsechny sitovky Switche 1 dam dokupy a vytvorim switch\n",
    "bridge_helper.Install(all_nodes.Get(5), switch2_net_devices) # vsechny sitovky Switche 2 dam dokupy a vytvorim switch"
   ]
  },
  {
   "cell_type": "code",
   "execution_count": 16,
   "id": "50f73c8d-ef7e-48d0-8385-57c6eeb86241",
   "metadata": {},
   "outputs": [],
   "source": [
    "# IP Stack - instalace IP protokolu na vsechny zarizeni\n",
    "\n",
    "internet = ns.InternetStackHelper()\n",
    "internet.Install(all_nodes.Get(0))\n",
    "internet.Install(all_nodes.Get(1))\n",
    "internet.Install(all_nodes.Get(3))\n",
    "internet.Install(all_nodes.Get(4))\n",
    "internet.Install(all_nodes.Get(6))"
   ]
  },
  {
   "cell_type": "code",
   "execution_count": 17,
   "id": "b1306af7-b986-469c-be5b-4f1058770e1d",
   "metadata": {},
   "outputs": [],
   "source": [
    "# IP addresace\n",
    "addr = ns.Ipv4AddressHelper()\n",
    "addr.SetBase(ns.Ipv4Address(f\"10.0.1.0\"), ns.Ipv4Mask(\"255.255.255.0\"))\n",
    "device_ifaces = addr.Assign(net1_net_devices) # Priradi IP addresy pro vsechny interfacy pro Sit1\n",
    "\n",
    "addr.NewNetwork() # Vytvori novou sit, na zaklade te predchozi (pouzije stejnou masku)\n",
    "device_ifaces = addr.Assign(p2p_devices) # Priradi IP addresy pro vsechny interfacy pro P2P spoj\n",
    "\n",
    "addr.NewNetwork() # Vytvori novou sit, na zaklade te predchozi (pouzije stejnou masku)\n",
    "device_ifaces = addr.Assign(net3_net_devices) # Priradi IP addresy pro vsechny interfacy pro Sit 3"
   ]
  },
  {
   "cell_type": "code",
   "execution_count": 18,
   "id": "1930745d-0af2-48eb-bede-f93ec2f18715",
   "metadata": {},
   "outputs": [],
   "source": [
    "# Vytvori routovaci tabulku na vsech L3 zarizenich\n",
    "ns.Ipv4GlobalRoutingHelper.PopulateRoutingTables() "
   ]
  },
  {
   "cell_type": "code",
   "execution_count": 21,
   "id": "f19e405d-ec46-4373-8ff2-c4381f550586",
   "metadata": {},
   "outputs": [
    {
     "name": "stdout",
     "output_type": "stream",
     "text": [
      "Servers: 1\n"
     ]
    }
   ],
   "source": [
    "# Vytvareni serveru (ktery bude naslouchat a odpovidat)\n",
    "\n",
    "echo_srv_helper = ns.UdpEchoServerHelper(9) #vytvorim si helper, neboli genericky server\n",
    "srv_apps = echo_srv_helper.Install(all_nodes.Get(1)) # Nainstaluju ho na PC2\n",
    "print(f\"Servers: {srv_apps.GetN()}\")"
   ]
  },
  {
   "cell_type": "code",
   "execution_count": 22,
   "id": "b404c62f-a0c8-46ea-b77a-c646ef4bfedd",
   "metadata": {},
   "outputs": [],
   "source": [
    "# Vytvareni clientu\n",
    "from lib.utils import create_echo_client_helper\n",
    "\n",
    "echo_client_helper = create_echo_client_helper(\"10.0.1.3\", 9) # Vytvoreni generickeho helperu pro clienta, s IP adresou a portem Serveru\n",
    "client_node_container = ns.NodeContainer() # vytvoreni kontejneru pro vsechny clienty\n",
    "client_node_container.Add(all_nodes.Get(0)) # pridani PC1 do kontejneru\n",
    "client_node_container.Add(all_nodes.Get(6)) # pridani PC3 do kontejneru\n",
    "\n",
    "client_apps = echo_client_helper.Install(client_node_container) # pridani helperu do vsech zarizeni v kontejneru"
   ]
  },
  {
   "cell_type": "code",
   "execution_count": 25,
   "id": "f7527421-66f7-49e5-86dc-beae12d6ab96",
   "metadata": {},
   "outputs": [],
   "source": [
    "# Logging\n",
    "\n",
    "ns.LogComponentEnable(\"UdpEchoClientApplication\", ns.LOG_LEVEL_INFO)\n",
    "ns.LogComponentEnable(\"UdpEchoServerApplication\", ns.LOG_LEVEL_INFO)"
   ]
  },
  {
   "cell_type": "code",
   "execution_count": 26,
   "id": "0309442d-d2a0-444e-8c02-873cdd777ba3",
   "metadata": {},
   "outputs": [],
   "source": [
    "# Timing\n",
    "\n",
    "srv_apps.Start(ns.Seconds(1.0))\n",
    "srv_apps.Stop(ns.Seconds(30.0))\n",
    "client_apps.Start(ns.Seconds(2.0)) # has to be later than server\n",
    "client_apps.Stop(ns.Seconds(30.0))"
   ]
  },
  {
   "cell_type": "code",
   "execution_count": 27,
   "id": "86b1bdd6-24ee-4d46-80ee-cf2942d77db8",
   "metadata": {},
   "outputs": [
    {
     "name": "stderr",
     "output_type": "stream",
     "text": [
      "At time +2s client sent 1500 bytes to 10.0.1.3 port 9\n",
      "At time +2s client sent 1500 bytes to 10.0.1.3 port 9\n",
      "At time +2.00301s server received 1500 bytes from 10.0.1.2 port 49153\n",
      "At time +2.00301s server sent 1500 bytes to 10.0.1.2 port 49153\n",
      "At time +2.00302s client received 1500 bytes from 10.0.1.3 port 9\n",
      "At time +2.38391s server received 1500 bytes from 10.0.3.2 port 49153\n",
      "At time +2.38391s server sent 1500 bytes to 10.0.3.2 port 49153\n",
      "At time +2.76983s client received 1500 bytes from 10.0.1.3 port 9\n",
      "At time +3s client sent 1500 bytes to 10.0.1.3 port 9\n",
      "At time +3s client sent 1500 bytes to 10.0.1.3 port 9\n",
      "At time +3.00001s server received 1500 bytes from 10.0.1.2 port 49153\n",
      "At time +3.00001s server sent 1500 bytes to 10.0.1.2 port 49153\n",
      "At time +3.00001s client received 1500 bytes from 10.0.1.3 port 9\n",
      "At time +3.37891s server received 1500 bytes from 10.0.3.2 port 49153\n",
      "At time +3.37891s server sent 1500 bytes to 10.0.3.2 port 49153\n",
      "At time +3.75783s client received 1500 bytes from 10.0.1.3 port 9\n",
      "At time +4s client sent 1500 bytes to 10.0.1.3 port 9\n",
      "At time +4s client sent 1500 bytes to 10.0.1.3 port 9\n",
      "At time +4.00001s server received 1500 bytes from 10.0.1.2 port 49153\n",
      "At time +4.00001s server sent 1500 bytes to 10.0.1.2 port 49153\n",
      "At time +4.00001s client received 1500 bytes from 10.0.1.3 port 9\n",
      "At time +4.37891s server received 1500 bytes from 10.0.3.2 port 49153\n",
      "At time +4.37891s server sent 1500 bytes to 10.0.3.2 port 49153\n",
      "At time +4.75783s client received 1500 bytes from 10.0.1.3 port 9\n",
      "At time +5s client sent 1500 bytes to 10.0.1.3 port 9\n",
      "At time +5s client sent 1500 bytes to 10.0.1.3 port 9\n",
      "At time +5.00001s server received 1500 bytes from 10.0.1.2 port 49153\n",
      "At time +5.00001s server sent 1500 bytes to 10.0.1.2 port 49153\n",
      "At time +5.00001s client received 1500 bytes from 10.0.1.3 port 9\n",
      "At time +5.37891s server received 1500 bytes from 10.0.3.2 port 49153\n",
      "At time +5.37891s server sent 1500 bytes to 10.0.3.2 port 49153\n",
      "At time +5.75783s client received 1500 bytes from 10.0.1.3 port 9\n",
      "At time +6s client sent 1500 bytes to 10.0.1.3 port 9\n",
      "At time +6s client sent 1500 bytes to 10.0.1.3 port 9\n",
      "At time +6.00001s server received 1500 bytes from 10.0.1.2 port 49153\n",
      "At time +6.00001s server sent 1500 bytes to 10.0.1.2 port 49153\n",
      "At time +6.00001s client received 1500 bytes from 10.0.1.3 port 9\n",
      "At time +6.37891s server received 1500 bytes from 10.0.3.2 port 49153\n",
      "At time +6.37891s server sent 1500 bytes to 10.0.3.2 port 49153\n",
      "At time +6.75783s client received 1500 bytes from 10.0.1.3 port 9\n",
      "At time +7s client sent 1500 bytes to 10.0.1.3 port 9\n",
      "At time +7s client sent 1500 bytes to 10.0.1.3 port 9\n",
      "At time +7.00001s server received 1500 bytes from 10.0.1.2 port 49153\n",
      "At time +7.00001s server sent 1500 bytes to 10.0.1.2 port 49153\n",
      "At time +7.00001s client received 1500 bytes from 10.0.1.3 port 9\n",
      "At time +7.37891s server received 1500 bytes from 10.0.3.2 port 49153\n",
      "At time +7.37891s server sent 1500 bytes to 10.0.3.2 port 49153\n",
      "At time +7.75783s client received 1500 bytes from 10.0.1.3 port 9\n",
      "At time +8s client sent 1500 bytes to 10.0.1.3 port 9\n",
      "At time +8s client sent 1500 bytes to 10.0.1.3 port 9\n",
      "At time +8.00001s server received 1500 bytes from 10.0.1.2 port 49153\n",
      "At time +8.00001s server sent 1500 bytes to 10.0.1.2 port 49153\n",
      "At time +8.00001s client received 1500 bytes from 10.0.1.3 port 9\n",
      "At time +8.37891s server received 1500 bytes from 10.0.3.2 port 49153\n",
      "At time +8.37891s server sent 1500 bytes to 10.0.3.2 port 49153\n",
      "At time +8.75783s client received 1500 bytes from 10.0.1.3 port 9\n",
      "At time +9s client sent 1500 bytes to 10.0.1.3 port 9\n",
      "At time +9s client sent 1500 bytes to 10.0.1.3 port 9\n",
      "At time +9.00001s server received 1500 bytes from 10.0.1.2 port 49153\n",
      "At time +9.00001s server sent 1500 bytes to 10.0.1.2 port 49153\n",
      "At time +9.00001s client received 1500 bytes from 10.0.1.3 port 9\n",
      "At time +9.37891s server received 1500 bytes from 10.0.3.2 port 49153\n",
      "At time +9.37891s server sent 1500 bytes to 10.0.3.2 port 49153\n",
      "At time +9.75783s client received 1500 bytes from 10.0.1.3 port 9\n",
      "At time +10s client sent 1500 bytes to 10.0.1.3 port 9\n",
      "At time +10s client sent 1500 bytes to 10.0.1.3 port 9\n",
      "At time +10s server received 1500 bytes from 10.0.1.2 port 49153\n",
      "At time +10s server sent 1500 bytes to 10.0.1.2 port 49153\n",
      "At time +10s client received 1500 bytes from 10.0.1.3 port 9\n",
      "At time +10.3789s server received 1500 bytes from 10.0.3.2 port 49153\n",
      "At time +10.3789s server sent 1500 bytes to 10.0.3.2 port 49153\n",
      "At time +10.7578s client received 1500 bytes from 10.0.1.3 port 9\n",
      "At time +11s client sent 1500 bytes to 10.0.1.3 port 9\n",
      "At time +11s client sent 1500 bytes to 10.0.1.3 port 9\n",
      "At time +11s server received 1500 bytes from 10.0.1.2 port 49153\n",
      "At time +11s server sent 1500 bytes to 10.0.1.2 port 49153\n",
      "At time +11s client received 1500 bytes from 10.0.1.3 port 9\n",
      "At time +11.3789s server received 1500 bytes from 10.0.3.2 port 49153\n",
      "At time +11.3789s server sent 1500 bytes to 10.0.3.2 port 49153\n",
      "At time +11.7578s client received 1500 bytes from 10.0.1.3 port 9\n",
      "At time +12s client sent 1500 bytes to 10.0.1.3 port 9\n",
      "At time +12s client sent 1500 bytes to 10.0.1.3 port 9\n",
      "At time +12s server received 1500 bytes from 10.0.1.2 port 49153\n",
      "At time +12s server sent 1500 bytes to 10.0.1.2 port 49153\n",
      "At time +12s client received 1500 bytes from 10.0.1.3 port 9\n",
      "At time +12.3789s server received 1500 bytes from 10.0.3.2 port 49153\n",
      "At time +12.3789s server sent 1500 bytes to 10.0.3.2 port 49153\n",
      "At time +12.7578s client received 1500 bytes from 10.0.1.3 port 9\n",
      "At time +13s client sent 1500 bytes to 10.0.1.3 port 9\n",
      "At time +13s client sent 1500 bytes to 10.0.1.3 port 9\n",
      "At time +13s server received 1500 bytes from 10.0.1.2 port 49153\n",
      "At time +13s server sent 1500 bytes to 10.0.1.2 port 49153\n",
      "At time +13s client received 1500 bytes from 10.0.1.3 port 9\n",
      "At time +13.3789s server received 1500 bytes from 10.0.3.2 port 49153\n",
      "At time +13.3789s server sent 1500 bytes to 10.0.3.2 port 49153\n",
      "At time +13.7578s client received 1500 bytes from 10.0.1.3 port 9\n",
      "At time +14s client sent 1500 bytes to 10.0.1.3 port 9\n",
      "At time +14s client sent 1500 bytes to 10.0.1.3 port 9\n",
      "At time +14s server received 1500 bytes from 10.0.1.2 port 49153\n",
      "At time +14s server sent 1500 bytes to 10.0.1.2 port 49153\n",
      "At time +14s client received 1500 bytes from 10.0.1.3 port 9\n",
      "At time +14.3789s server received 1500 bytes from 10.0.3.2 port 49153\n",
      "At time +14.3789s server sent 1500 bytes to 10.0.3.2 port 49153\n",
      "At time +14.7578s client received 1500 bytes from 10.0.1.3 port 9\n",
      "At time +15s client sent 1500 bytes to 10.0.1.3 port 9\n",
      "At time +15s client sent 1500 bytes to 10.0.1.3 port 9\n",
      "At time +15s server received 1500 bytes from 10.0.1.2 port 49153\n",
      "At time +15s server sent 1500 bytes to 10.0.1.2 port 49153\n",
      "At time +15s client received 1500 bytes from 10.0.1.3 port 9\n",
      "At time +15.3789s server received 1500 bytes from 10.0.3.2 port 49153\n",
      "At time +15.3789s server sent 1500 bytes to 10.0.3.2 port 49153\n",
      "At time +15.7578s client received 1500 bytes from 10.0.1.3 port 9\n",
      "At time +16s client sent 1500 bytes to 10.0.1.3 port 9\n",
      "At time +16s client sent 1500 bytes to 10.0.1.3 port 9\n",
      "At time +16s server received 1500 bytes from 10.0.1.2 port 49153\n",
      "At time +16s server sent 1500 bytes to 10.0.1.2 port 49153\n",
      "At time +16s client received 1500 bytes from 10.0.1.3 port 9\n",
      "At time +16.3789s server received 1500 bytes from 10.0.3.2 port 49153\n",
      "At time +16.3789s server sent 1500 bytes to 10.0.3.2 port 49153\n",
      "At time +16.7578s client received 1500 bytes from 10.0.1.3 port 9\n",
      "At time +17s client sent 1500 bytes to 10.0.1.3 port 9\n",
      "At time +17s client sent 1500 bytes to 10.0.1.3 port 9\n",
      "At time +17s server received 1500 bytes from 10.0.1.2 port 49153\n",
      "At time +17s server sent 1500 bytes to 10.0.1.2 port 49153\n",
      "At time +17s client received 1500 bytes from 10.0.1.3 port 9\n",
      "At time +17.3789s server received 1500 bytes from 10.0.3.2 port 49153\n",
      "At time +17.3789s server sent 1500 bytes to 10.0.3.2 port 49153\n",
      "At time +17.7578s client received 1500 bytes from 10.0.1.3 port 9\n",
      "At time +18s client sent 1500 bytes to 10.0.1.3 port 9\n",
      "At time +18s client sent 1500 bytes to 10.0.1.3 port 9\n",
      "At time +18s server received 1500 bytes from 10.0.1.2 port 49153\n",
      "At time +18s server sent 1500 bytes to 10.0.1.2 port 49153\n",
      "At time +18s client received 1500 bytes from 10.0.1.3 port 9\n",
      "At time +18.3789s server received 1500 bytes from 10.0.3.2 port 49153\n",
      "At time +18.3789s server sent 1500 bytes to 10.0.3.2 port 49153\n",
      "At time +18.7578s client received 1500 bytes from 10.0.1.3 port 9\n",
      "At time +19s client sent 1500 bytes to 10.0.1.3 port 9\n",
      "At time +19s client sent 1500 bytes to 10.0.1.3 port 9\n",
      "At time +19s server received 1500 bytes from 10.0.1.2 port 49153\n",
      "At time +19s server sent 1500 bytes to 10.0.1.2 port 49153\n",
      "At time +19s client received 1500 bytes from 10.0.1.3 port 9\n",
      "At time +19.3789s server received 1500 bytes from 10.0.3.2 port 49153\n",
      "At time +19.3789s server sent 1500 bytes to 10.0.3.2 port 49153\n",
      "At time +19.7578s client received 1500 bytes from 10.0.1.3 port 9\n",
      "At time +20s client sent 1500 bytes to 10.0.1.3 port 9\n",
      "At time +20s client sent 1500 bytes to 10.0.1.3 port 9\n",
      "At time +20s server received 1500 bytes from 10.0.1.2 port 49153\n",
      "At time +20s server sent 1500 bytes to 10.0.1.2 port 49153\n",
      "At time +20s client received 1500 bytes from 10.0.1.3 port 9\n",
      "At time +20.3789s server received 1500 bytes from 10.0.3.2 port 49153\n",
      "At time +20.3789s server sent 1500 bytes to 10.0.3.2 port 49153\n",
      "At time +20.7578s client received 1500 bytes from 10.0.1.3 port 9\n",
      "At time +21s client sent 1500 bytes to 10.0.1.3 port 9\n",
      "At time +21s client sent 1500 bytes to 10.0.1.3 port 9\n",
      "At time +21s server received 1500 bytes from 10.0.1.2 port 49153\n",
      "At time +21s server sent 1500 bytes to 10.0.1.2 port 49153\n",
      "At time +21s client received 1500 bytes from 10.0.1.3 port 9\n",
      "At time +21.3789s server received 1500 bytes from 10.0.3.2 port 49153\n",
      "At time +21.3789s server sent 1500 bytes to 10.0.3.2 port 49153\n",
      "At time +21.7578s client received 1500 bytes from 10.0.1.3 port 9\n",
      "At time +22s client sent 1500 bytes to 10.0.1.3 port 9\n",
      "At time +22s client sent 1500 bytes to 10.0.1.3 port 9\n",
      "At time +22s server received 1500 bytes from 10.0.1.2 port 49153\n",
      "At time +22s server sent 1500 bytes to 10.0.1.2 port 49153\n",
      "At time +22s client received 1500 bytes from 10.0.1.3 port 9\n",
      "At time +22.3789s server received 1500 bytes from 10.0.3.2 port 49153\n",
      "At time +22.3789s server sent 1500 bytes to 10.0.3.2 port 49153\n",
      "At time +22.7578s client received 1500 bytes from 10.0.1.3 port 9\n",
      "At time +23s client sent 1500 bytes to 10.0.1.3 port 9\n",
      "At time +23s client sent 1500 bytes to 10.0.1.3 port 9\n",
      "At time +23s server received 1500 bytes from 10.0.1.2 port 49153\n",
      "At time +23s server sent 1500 bytes to 10.0.1.2 port 49153\n",
      "At time +23s client received 1500 bytes from 10.0.1.3 port 9\n",
      "At time +23.3789s server received 1500 bytes from 10.0.3.2 port 49153\n",
      "At time +23.3789s server sent 1500 bytes to 10.0.3.2 port 49153\n",
      "At time +23.7578s client received 1500 bytes from 10.0.1.3 port 9\n",
      "At time +24s client sent 1500 bytes to 10.0.1.3 port 9\n",
      "At time +24s client sent 1500 bytes to 10.0.1.3 port 9\n",
      "At time +24s server received 1500 bytes from 10.0.1.2 port 49153\n",
      "At time +24s server sent 1500 bytes to 10.0.1.2 port 49153\n",
      "At time +24s client received 1500 bytes from 10.0.1.3 port 9\n",
      "At time +24.3789s server received 1500 bytes from 10.0.3.2 port 49153\n",
      "At time +24.3789s server sent 1500 bytes to 10.0.3.2 port 49153\n",
      "At time +24.7578s client received 1500 bytes from 10.0.1.3 port 9\n",
      "At time +25s client sent 1500 bytes to 10.0.1.3 port 9\n",
      "At time +25s client sent 1500 bytes to 10.0.1.3 port 9\n",
      "At time +25s server received 1500 bytes from 10.0.1.2 port 49153\n",
      "At time +25s server sent 1500 bytes to 10.0.1.2 port 49153\n",
      "At time +25s client received 1500 bytes from 10.0.1.3 port 9\n",
      "At time +25.3789s server received 1500 bytes from 10.0.3.2 port 49153\n",
      "At time +25.3789s server sent 1500 bytes to 10.0.3.2 port 49153\n",
      "At time +25.7578s client received 1500 bytes from 10.0.1.3 port 9\n",
      "At time +26s client sent 1500 bytes to 10.0.1.3 port 9\n",
      "At time +26s client sent 1500 bytes to 10.0.1.3 port 9\n",
      "At time +26s server received 1500 bytes from 10.0.1.2 port 49153\n",
      "At time +26s server sent 1500 bytes to 10.0.1.2 port 49153\n",
      "At time +26s client received 1500 bytes from 10.0.1.3 port 9\n",
      "At time +26.3789s server received 1500 bytes from 10.0.3.2 port 49153\n",
      "At time +26.3789s server sent 1500 bytes to 10.0.3.2 port 49153\n",
      "At time +26.7578s client received 1500 bytes from 10.0.1.3 port 9\n",
      "At time +27s client sent 1500 bytes to 10.0.1.3 port 9\n",
      "At time +27s client sent 1500 bytes to 10.0.1.3 port 9\n",
      "At time +27s server received 1500 bytes from 10.0.1.2 port 49153\n",
      "At time +27s server sent 1500 bytes to 10.0.1.2 port 49153\n",
      "At time +27s client received 1500 bytes from 10.0.1.3 port 9\n",
      "At time +27.3789s server received 1500 bytes from 10.0.3.2 port 49153\n",
      "At time +27.3789s server sent 1500 bytes to 10.0.3.2 port 49153\n",
      "At time +27.7578s client received 1500 bytes from 10.0.1.3 port 9\n",
      "At time +28s client sent 1500 bytes to 10.0.1.3 port 9\n",
      "At time +28s client sent 1500 bytes to 10.0.1.3 port 9\n",
      "At time +28s server received 1500 bytes from 10.0.1.2 port 49153\n",
      "At time +28s server sent 1500 bytes to 10.0.1.2 port 49153\n",
      "At time +28s client received 1500 bytes from 10.0.1.3 port 9\n",
      "At time +28.3789s server received 1500 bytes from 10.0.3.2 port 49153\n",
      "At time +28.3789s server sent 1500 bytes to 10.0.3.2 port 49153\n",
      "At time +28.7578s client received 1500 bytes from 10.0.1.3 port 9\n",
      "At time +29s client sent 1500 bytes to 10.0.1.3 port 9\n",
      "At time +29s client sent 1500 bytes to 10.0.1.3 port 9\n",
      "At time +29s server received 1500 bytes from 10.0.1.2 port 49153\n",
      "At time +29s server sent 1500 bytes to 10.0.1.2 port 49153\n",
      "At time +29s client received 1500 bytes from 10.0.1.3 port 9\n",
      "At time +29.3789s server received 1500 bytes from 10.0.3.2 port 49153\n",
      "At time +29.3789s server sent 1500 bytes to 10.0.3.2 port 49153\n",
      "At time +29.7578s client received 1500 bytes from 10.0.1.3 port 9\n"
     ]
    }
   ],
   "source": [
    "# Run\n",
    "\n",
    "ns.Simulator.Stop(ns.Seconds(35))\n",
    "ns.Simulator.Run()\n",
    "\n",
    "# print routing table\n",
    "from lib.utils import get_routing_table_str, get_node_ips\n",
    "print(get_routing_table_str(all_nodes.Get(0)))\n",
    "print(get_node_ips(all_nodes.Get(3))[2][0])\n",
    "\n",
    "\n",
    "ns.Simulator.Destroy()\n"
   ]
  },
  {
   "cell_type": "code",
   "execution_count": null,
   "id": "749dce11-256f-410d-ad4c-d127854d2497",
   "metadata": {},
   "outputs": [],
   "source": []
  }
 ],
 "metadata": {
  "kernelspec": {
   "display_name": "Python 3 (ipykernel)",
   "language": "python",
   "name": "python3"
  },
  "language_info": {
   "codemirror_mode": {
    "name": "ipython",
    "version": 3
   },
   "file_extension": ".py",
   "mimetype": "text/x-python",
   "name": "python",
   "nbconvert_exporter": "python",
   "pygments_lexer": "ipython3",
   "version": "3.11.2"
  }
 },
 "nbformat": 4,
 "nbformat_minor": 5
}
